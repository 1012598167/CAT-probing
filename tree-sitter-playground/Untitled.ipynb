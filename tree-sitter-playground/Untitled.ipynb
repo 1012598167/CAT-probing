{
 "cells": [
  {
   "cell_type": "code",
   "execution_count": 24,
   "metadata": {},
   "outputs": [
    {
     "ename": "ImportError",
     "evalue": "cannot import name 'remove_comments_and_docstrings'",
     "output_type": "error",
     "traceback": [
      "\u001b[0;31m---------------------------------------------------------------------------\u001b[0m",
      "\u001b[0;31mImportError\u001b[0m                               Traceback (most recent call last)",
      "\u001b[0;32m<ipython-input-24-aee8458ce9dd>\u001b[0m in \u001b[0;36m<module>\u001b[0;34m\u001b[0m\n\u001b[0;32m----> 1\u001b[0;31m \u001b[0;32mfrom\u001b[0m \u001b[0mtree_sitter\u001b[0m \u001b[0;32mimport\u001b[0m \u001b[0mLanguage\u001b[0m\u001b[0;34m,\u001b[0m \u001b[0mParser\u001b[0m\u001b[0;34m,\u001b[0m \u001b[0mremove_comments_and_docstrings\u001b[0m\u001b[0;34m\u001b[0m\u001b[0;34m\u001b[0m\u001b[0m\n\u001b[0m",
      "\u001b[0;31mImportError\u001b[0m: cannot import name 'remove_comments_and_docstrings'"
     ]
    }
   ],
   "source": [
    "from tree_sitter import Language, Parser, remove_comments_and_docstrings"
   ]
  },
  {
   "cell_type": "code",
   "execution_count": 16,
   "metadata": {},
   "outputs": [],
   "source": [
    "import pickle\n",
    "import torch\n",
    "from transformers import AutoModel, AutoTokenizer, AutoConfig\n",
    "import torch.nn as nn\n",
    "import json\n",
    "import random\n",
    "import argparse\n",
    "import multiprocessing\n",
    "from torch.utils.data import DataLoader, SequentialSampler\n",
    "from tqdm import tqdm\n",
    "import os\n",
    "import logging\n",
    "from tree_sitter import Language, Parser\n",
    "import networkx as nx\n",
    "import numpy as np\n",
    "import sys\n",
    "sys.setrecursionlimit(5000)"
   ]
  },
  {
   "cell_type": "code",
   "execution_count": 18,
   "metadata": {},
   "outputs": [],
   "source": [
    "logging.basicConfig(format='%(asctime)s - %(levelname)s - %(name)s -   %(message)s',\n",
    "                    datefmt='%m/%d/%Y %H:%M:%S',\n",
    "                    level=logging.INFO)\n",
    "logger = logging.getLogger(__name__)"
   ]
  },
  {
   "cell_type": "code",
   "execution_count": 4,
   "metadata": {},
   "outputs": [],
   "source": [
    "Language.build_library(\n",
    "    'build/my-language.so',\n",
    "    [\n",
    "        '/data/code/tree-sitter/tree-sitter-ruby',\n",
    "        '/data/code/tree-sitter/tree-sitter-javascript',\n",
    "        '/data/code/tree-sitter/tree-sitter-go',\n",
    "        '/data/code/tree-sitter/tree-sitter-python',\n",
    "        '/data/code/tree-sitter/tree-sitter-java',\n",
    "        '/data/code/tree-sitter/tree-sitter-php',\n",
    "    ]\n",
    ")\n",
    "language = Language('build/my-language.so', 'java')\n",
    "parser = Parser()\n",
    "parser.set_language(language)"
   ]
  },
  {
   "cell_type": "code",
   "execution_count": 10,
   "metadata": {},
   "outputs": [
    {
     "data": {
      "text/plain": [
       "<tree_sitter.Parser at 0x7f91c518bc30>"
      ]
     },
     "execution_count": 10,
     "metadata": {},
     "output_type": "execute_result"
    }
   ],
   "source": [
    "parser"
   ]
  },
  {
   "cell_type": "code",
   "execution_count": 11,
   "metadata": {},
   "outputs": [],
   "source": [
    "src = 'public class Hello{\\nprivate String text = \"Hello World!\";\\npublic void print(int value) {\\nif(value>100) System.out.println(value);}}'"
   ]
  },
  {
   "cell_type": "code",
   "execution_count": 20,
   "metadata": {},
   "outputs": [],
   "source": [
    "def get_ast_nx(example, parser, lang):\n",
    "    new_code = remove_comments_and_docstrings(example.raw_code, lang)\n",
    "    print(\"new_code:\",new_code)\n",
    "    tree = parser.parse(bytes(new_code, 'utf-8'))\n",
    "    G = nx.Graph()\n",
    "    cursor = tree.walk()\n",
    "    traverse(cursor, G, came_up=False, node_tag=0, node_sum=0, parent_dict={})\n",
    "    return Example(\n",
    "        idx=example.idx,\n",
    "        source=new_code,\n",
    "        target=example.target,\n",
    "        ast=G\n",
    "    )"
   ]
  },
  {
   "cell_type": "code",
   "execution_count": 21,
   "metadata": {},
   "outputs": [],
   "source": [
    "def get_ast_and_token(examples, parser, lang):\n",
    "    ast_list = []\n",
    "    tokens_list = []\n",
    "    logger.info(\"Parse AST trees and obtain leaf tokens\")\n",
    "    i = 0\n",
    "    j = 0\n",
    "    leaves_list=[]\n",
    "    for example in tqdm(examples):\n",
    "        ast_example = get_ast_nx(example, parser, lang)\n",
    "        G = ast_example.ast\n",
    "        ast_list.append(G)\n",
    "        T = nx.dfs_tree(G, 0)\n",
    "        leaves = [x for x in T.nodes() if T.out_degree(x) ==\n",
    "                  0 and T.in_degree(x) == 1]\n",
    "        leaves_list.append(leaves)\n",
    "        tokens_dict = {}\n",
    "        for leaf in leaves:\n",
    "            feature = G.nodes[leaf]['features']\n",
    "            if feature.type != 'comment':\n",
    "                start = feature.start_point\n",
    "                end = feature.end_point\n",
    "                token = index_to_code_token([start, end], ast_example.source)\n",
    "                if i == 0:\n",
    "                    print('leaf: ', leaf, 'start: ', start,\n",
    "                          ', end: ', end, ', token: ', token)\n",
    "                tokens_dict[leaf] = token\n",
    "\n",
    "        if i == 0:\n",
    "            print(T.nodes)\n",
    "            print(T.edges)\n",
    "            print('raw_code: ', ast_example.source)\n",
    "            print('leaves: ', leaves)\n",
    "            i += 1\n",
    "\n",
    "        tokens_list.append(tokens_dict)\n",
    "        j+=1\n",
    "    print('example length:',j)\n",
    "    print('ast list length', len(ast_list))\n",
    "    print('tokens list length', len(tokens_list))\n",
    "    print('tokens 0: ')\n",
    "    print(tokens_list[0])\n",
    "    return ast_list, tokens_list , leaves_list"
   ]
  },
  {
   "cell_type": "code",
   "execution_count": 22,
   "metadata": {},
   "outputs": [
    {
     "name": "stderr",
     "output_type": "stream",
     "text": [
      "06/04/2022 04:33:19 - INFO - __main__ -   Parse AST trees and obtain leaf tokens\n",
      "  0%|          | 0/131 [00:00<?, ?it/s]\n"
     ]
    },
    {
     "ename": "NameError",
     "evalue": "name 'remove_comments_and_docstrings' is not defined",
     "output_type": "error",
     "traceback": [
      "\u001b[0;31m---------------------------------------------------------------------------\u001b[0m",
      "\u001b[0;31mNameError\u001b[0m                                 Traceback (most recent call last)",
      "\u001b[0;32m<ipython-input-22-0932c563edf4>\u001b[0m in \u001b[0;36m<module>\u001b[0;34m\u001b[0m\n\u001b[0;32m----> 1\u001b[0;31m \u001b[0mast_list\u001b[0m\u001b[0;34m,\u001b[0m \u001b[0mtokens_list\u001b[0m\u001b[0;34m,\u001b[0m \u001b[0mleaves\u001b[0m \u001b[0;34m=\u001b[0m \u001b[0mget_ast_and_token\u001b[0m\u001b[0;34m(\u001b[0m\u001b[0msrc\u001b[0m\u001b[0;34m,\u001b[0m \u001b[0mparser\u001b[0m\u001b[0;34m,\u001b[0m \u001b[0;34m'java'\u001b[0m\u001b[0;34m)\u001b[0m\u001b[0;34m\u001b[0m\u001b[0;34m\u001b[0m\u001b[0m\n\u001b[0m",
      "\u001b[0;32m<ipython-input-21-cabfe7b7971b>\u001b[0m in \u001b[0;36mget_ast_and_token\u001b[0;34m(examples, parser, lang)\u001b[0m\n\u001b[1;32m      7\u001b[0m     \u001b[0mleaves_list\u001b[0m\u001b[0;34m=\u001b[0m\u001b[0;34m[\u001b[0m\u001b[0;34m]\u001b[0m\u001b[0;34m\u001b[0m\u001b[0;34m\u001b[0m\u001b[0m\n\u001b[1;32m      8\u001b[0m     \u001b[0;32mfor\u001b[0m \u001b[0mexample\u001b[0m \u001b[0;32min\u001b[0m \u001b[0mtqdm\u001b[0m\u001b[0;34m(\u001b[0m\u001b[0mexamples\u001b[0m\u001b[0;34m)\u001b[0m\u001b[0;34m:\u001b[0m\u001b[0;34m\u001b[0m\u001b[0;34m\u001b[0m\u001b[0m\n\u001b[0;32m----> 9\u001b[0;31m         \u001b[0mast_example\u001b[0m \u001b[0;34m=\u001b[0m \u001b[0mget_ast_nx\u001b[0m\u001b[0;34m(\u001b[0m\u001b[0mexample\u001b[0m\u001b[0;34m,\u001b[0m \u001b[0mparser\u001b[0m\u001b[0;34m,\u001b[0m \u001b[0mlang\u001b[0m\u001b[0;34m)\u001b[0m\u001b[0;34m\u001b[0m\u001b[0;34m\u001b[0m\u001b[0m\n\u001b[0m\u001b[1;32m     10\u001b[0m         \u001b[0mG\u001b[0m \u001b[0;34m=\u001b[0m \u001b[0mast_example\u001b[0m\u001b[0;34m.\u001b[0m\u001b[0mast\u001b[0m\u001b[0;34m\u001b[0m\u001b[0;34m\u001b[0m\u001b[0m\n\u001b[1;32m     11\u001b[0m         \u001b[0mast_list\u001b[0m\u001b[0;34m.\u001b[0m\u001b[0mappend\u001b[0m\u001b[0;34m(\u001b[0m\u001b[0mG\u001b[0m\u001b[0;34m)\u001b[0m\u001b[0;34m\u001b[0m\u001b[0;34m\u001b[0m\u001b[0m\n",
      "\u001b[0;32m<ipython-input-20-6812ea5f1539>\u001b[0m in \u001b[0;36mget_ast_nx\u001b[0;34m(example, parser, lang)\u001b[0m\n\u001b[1;32m      1\u001b[0m \u001b[0;32mdef\u001b[0m \u001b[0mget_ast_nx\u001b[0m\u001b[0;34m(\u001b[0m\u001b[0mexample\u001b[0m\u001b[0;34m,\u001b[0m \u001b[0mparser\u001b[0m\u001b[0;34m,\u001b[0m \u001b[0mlang\u001b[0m\u001b[0;34m)\u001b[0m\u001b[0;34m:\u001b[0m\u001b[0;34m\u001b[0m\u001b[0;34m\u001b[0m\u001b[0m\n\u001b[0;32m----> 2\u001b[0;31m     \u001b[0mnew_code\u001b[0m \u001b[0;34m=\u001b[0m \u001b[0mremove_comments_and_docstrings\u001b[0m\u001b[0;34m(\u001b[0m\u001b[0mexample\u001b[0m\u001b[0;34m.\u001b[0m\u001b[0mraw_code\u001b[0m\u001b[0;34m,\u001b[0m \u001b[0mlang\u001b[0m\u001b[0;34m)\u001b[0m\u001b[0;34m\u001b[0m\u001b[0;34m\u001b[0m\u001b[0m\n\u001b[0m\u001b[1;32m      3\u001b[0m     \u001b[0mprint\u001b[0m\u001b[0;34m(\u001b[0m\u001b[0;34m\"new_code:\"\u001b[0m\u001b[0;34m,\u001b[0m\u001b[0mnew_code\u001b[0m\u001b[0;34m)\u001b[0m\u001b[0;34m\u001b[0m\u001b[0;34m\u001b[0m\u001b[0m\n\u001b[1;32m      4\u001b[0m     \u001b[0mtree\u001b[0m \u001b[0;34m=\u001b[0m \u001b[0mparser\u001b[0m\u001b[0;34m.\u001b[0m\u001b[0mparse\u001b[0m\u001b[0;34m(\u001b[0m\u001b[0mbytes\u001b[0m\u001b[0;34m(\u001b[0m\u001b[0mnew_code\u001b[0m\u001b[0;34m,\u001b[0m \u001b[0;34m'utf-8'\u001b[0m\u001b[0;34m)\u001b[0m\u001b[0;34m)\u001b[0m\u001b[0;34m\u001b[0m\u001b[0;34m\u001b[0m\u001b[0m\n\u001b[1;32m      5\u001b[0m     \u001b[0mG\u001b[0m \u001b[0;34m=\u001b[0m \u001b[0mnx\u001b[0m\u001b[0;34m.\u001b[0m\u001b[0mGraph\u001b[0m\u001b[0;34m(\u001b[0m\u001b[0;34m)\u001b[0m\u001b[0;34m\u001b[0m\u001b[0;34m\u001b[0m\u001b[0m\n",
      "\u001b[0;31mNameError\u001b[0m: name 'remove_comments_and_docstrings' is not defined"
     ]
    }
   ],
   "source": [
    "ast_list, tokens_list, leaves = get_ast_and_token(src, parser, 'java')"
   ]
  },
  {
   "cell_type": "code",
   "execution_count": 23,
   "metadata": {},
   "outputs": [
    {
     "ename": "NameError",
     "evalue": "name 'remove_comments_and_docstrings' is not defined",
     "output_type": "error",
     "traceback": [
      "\u001b[0;31m---------------------------------------------------------------------------\u001b[0m",
      "\u001b[0;31mNameError\u001b[0m                                 Traceback (most recent call last)",
      "\u001b[0;32m<ipython-input-23-61246d9acefa>\u001b[0m in \u001b[0;36m<module>\u001b[0;34m\u001b[0m\n\u001b[0;32m----> 1\u001b[0;31m \u001b[0msrc_clean\u001b[0m \u001b[0;34m=\u001b[0m \u001b[0mremove_comments_and_docstrings\u001b[0m\u001b[0;34m(\u001b[0m\u001b[0msrc\u001b[0m\u001b[0;34m,\u001b[0m \u001b[0;34m'java'\u001b[0m\u001b[0;34m)\u001b[0m\u001b[0;34m\u001b[0m\u001b[0;34m\u001b[0m\u001b[0m\n\u001b[0m",
      "\u001b[0;31mNameError\u001b[0m: name 'remove_comments_and_docstrings' is not defined"
     ]
    }
   ],
   "source": [
    "src_clean = remove_comments_and_docstrings(src, 'java')"
   ]
  },
  {
   "cell_type": "code",
   "execution_count": null,
   "metadata": {},
   "outputs": [],
   "source": []
  }
 ],
 "metadata": {
  "kernelspec": {
   "display_name": "plbart-env",
   "language": "python",
   "name": "plbart"
  },
  "language_info": {
   "codemirror_mode": {
    "name": "ipython",
    "version": 3
   },
   "file_extension": ".py",
   "mimetype": "text/x-python",
   "name": "python",
   "nbconvert_exporter": "python",
   "pygments_lexer": "ipython3",
   "version": "3.6.10"
  }
 },
 "nbformat": 4,
 "nbformat_minor": 4
}
